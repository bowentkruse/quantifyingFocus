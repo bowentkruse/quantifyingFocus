{
 "cells": [
  {
   "cell_type": "markdown",
   "metadata": {},
   "source": [
    "### Using Focus Measure to Filter Out Blurry Images\n",
    "Brenner's focus measure is a sharpness or focus measure used in image processing to assess the clarity or focus of an image. It is particularly useful for quantifying the sharpness of an image, making it valuable in autofocus algorithms, image quality assessment, and computer vision tasks.\n",
    "\n",
    "In this demo, we'll implement multiple variations of Brenner's focus measure and then analyze which method is most useful for the [GoPro dataset](https://paperswithcode.com/dataset/gopro)."
   ]
  },
  {
   "cell_type": "markdown",
   "metadata": {},
   "source": [
    "The first variation we'll implement is the original, which sums the squares of the horizontal first derivative, which is a complicated way to say it measures the difference in brightness between neighboring pixels in the horizontal direction. "
   ]
  },
  {
   "cell_type": "code",
   "execution_count": null,
   "metadata": {
    "vscode": {
     "languageId": "plaintext"
    }
   },
   "outputs": [],
   "source": []
  },
  {
   "cell_type": "markdown",
   "metadata": {},
   "source": []
  }
 ],
 "metadata": {
  "language_info": {
   "name": "python"
  }
 },
 "nbformat": 4,
 "nbformat_minor": 2
}
